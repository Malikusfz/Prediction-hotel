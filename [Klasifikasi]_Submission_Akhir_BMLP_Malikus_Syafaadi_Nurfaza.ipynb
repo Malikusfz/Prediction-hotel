{
 "cells": [
  {
   "cell_type": "markdown",
   "metadata": {
    "id": "fKADPWcFKlj3"
   },
   "source": [
    "# **1. Import Library**"
   ]
  },
  {
   "cell_type": "markdown",
   "metadata": {
    "id": "LgA3ERnVn84N"
   },
   "source": [
    "Pada tahap ini, Anda perlu mengimpor beberapa pustaka (library) Python yang dibutuhkan untuk analisis data dan pembangunan model machine learning."
   ]
  },
  {
   "cell_type": "code",
   "execution_count": 1,
   "metadata": {
    "id": "BlmvjLY9M4Yj"
   },
   "outputs": [],
   "source": [
    "import pandas as pd\n",
    "import matplotlib.pyplot as plt\n",
    "import seaborn as sns\n",
    "from sklearn.model_selection import train_test_split, cross_val_score\n",
    "from sklearn.ensemble import RandomForestClassifier\n",
    "from sklearn.pipeline import Pipeline\n",
    "from sklearn.model_selection import KFold, cross_validate\n",
    "from sklearn.preprocessing import StandardScaler\n",
    "from sklearn.metrics import accuracy_score, f1_score, confusion_matrix\n",
    "from sklearn.linear_model import LogisticRegression\n",
    "from sklearn.svm import SVC\n",
    "from sklearn.metrics import precision_score, recall_score\n",
    "from sklearn.model_selection import StratifiedKFold"
   ]
  },
  {
   "cell_type": "markdown",
   "metadata": {
    "id": "f3YIEnAFKrKL"
   },
   "source": [
    "# **2. Memuat Dataset dari Hasil Clustering**"
   ]
  },
  {
   "cell_type": "markdown",
   "metadata": {
    "id": "Ey3ItwTen_7E"
   },
   "source": [
    "Memuat dataset hasil clustering dari file CSV ke dalam variabel DataFrame."
   ]
  },
  {
   "cell_type": "code",
   "execution_count": 2,
   "metadata": {},
   "outputs": [],
   "source": [
    "df = pd.read_csv('clustering_results.csv')"
   ]
  },
  {
   "cell_type": "code",
   "execution_count": 3,
   "metadata": {},
   "outputs": [
    {
     "name": "stdout",
     "output_type": "stream",
     "text": [
      "Jumlah baris duplikat dalam dataset: 285\n"
     ]
    }
   ],
   "source": [
    "duplicate_rows = df[df.duplicated()]\n",
    "duplicate_rows = df[df.duplicated()]\n",
    "print(f\"Jumlah baris duplikat dalam dataset: {duplicate_rows.shape[0]}\")"
   ]
  },
  {
   "cell_type": "code",
   "execution_count": 4,
   "metadata": {},
   "outputs": [],
   "source": [
    "df = df.drop_duplicates()"
   ]
  },
  {
   "cell_type": "code",
   "execution_count": 5,
   "metadata": {},
   "outputs": [
    {
     "name": "stdout",
     "output_type": "stream",
     "text": [
      "Distribusi klaster dalam dataset:\n",
      "Cluster\n",
      "1    50548\n",
      "0    36107\n",
      "Name: count, dtype: int64\n",
      "Cluster\n",
      "1    50548\n",
      "0    36107\n",
      "Name: count, dtype: int64\n"
     ]
    }
   ],
   "source": [
    "print(\"Distribusi klaster dalam dataset:\")\n",
    "print(df['Cluster'].value_counts())\n",
    "print(df['Cluster'].value_counts())\n"
   ]
  },
  {
   "cell_type": "code",
   "execution_count": 6,
   "metadata": {
    "id": "GHCGNTyrM5fS"
   },
   "outputs": [
    {
     "data": {
      "text/html": [
       "<div>\n",
       "<style scoped>\n",
       "    .dataframe tbody tr th:only-of-type {\n",
       "        vertical-align: middle;\n",
       "    }\n",
       "\n",
       "    .dataframe tbody tr th {\n",
       "        vertical-align: top;\n",
       "    }\n",
       "\n",
       "    .dataframe thead th {\n",
       "        text-align: right;\n",
       "    }\n",
       "</style>\n",
       "<table border=\"1\" class=\"dataframe\">\n",
       "  <thead>\n",
       "    <tr style=\"text-align: right;\">\n",
       "      <th></th>\n",
       "      <th>hotel</th>\n",
       "      <th>is_canceled</th>\n",
       "      <th>lead_time</th>\n",
       "      <th>arrival_date_year</th>\n",
       "      <th>arrival_date_month</th>\n",
       "      <th>arrival_date_week_number</th>\n",
       "      <th>arrival_date_day_of_month</th>\n",
       "      <th>stays_in_weekend_nights</th>\n",
       "      <th>stays_in_week_nights</th>\n",
       "      <th>adults</th>\n",
       "      <th>...</th>\n",
       "      <th>reserved_room_type</th>\n",
       "      <th>assigned_room_type</th>\n",
       "      <th>booking_changes</th>\n",
       "      <th>deposit_type</th>\n",
       "      <th>days_in_waiting_list</th>\n",
       "      <th>customer_type</th>\n",
       "      <th>adr</th>\n",
       "      <th>required_car_parking_spaces</th>\n",
       "      <th>total_of_special_requests</th>\n",
       "      <th>Cluster</th>\n",
       "    </tr>\n",
       "  </thead>\n",
       "  <tbody>\n",
       "    <tr>\n",
       "      <th>0</th>\n",
       "      <td>1</td>\n",
       "      <td>0</td>\n",
       "      <td>342</td>\n",
       "      <td>2015</td>\n",
       "      <td>5</td>\n",
       "      <td>27</td>\n",
       "      <td>1</td>\n",
       "      <td>0</td>\n",
       "      <td>0</td>\n",
       "      <td>2</td>\n",
       "      <td>...</td>\n",
       "      <td>2</td>\n",
       "      <td>2</td>\n",
       "      <td>3</td>\n",
       "      <td>0</td>\n",
       "      <td>0</td>\n",
       "      <td>2</td>\n",
       "      <td>0.00</td>\n",
       "      <td>0</td>\n",
       "      <td>0</td>\n",
       "      <td>0</td>\n",
       "    </tr>\n",
       "    <tr>\n",
       "      <th>1</th>\n",
       "      <td>1</td>\n",
       "      <td>0</td>\n",
       "      <td>737</td>\n",
       "      <td>2015</td>\n",
       "      <td>5</td>\n",
       "      <td>27</td>\n",
       "      <td>1</td>\n",
       "      <td>0</td>\n",
       "      <td>0</td>\n",
       "      <td>2</td>\n",
       "      <td>...</td>\n",
       "      <td>2</td>\n",
       "      <td>2</td>\n",
       "      <td>4</td>\n",
       "      <td>0</td>\n",
       "      <td>0</td>\n",
       "      <td>2</td>\n",
       "      <td>0.00</td>\n",
       "      <td>0</td>\n",
       "      <td>0</td>\n",
       "      <td>0</td>\n",
       "    </tr>\n",
       "    <tr>\n",
       "      <th>2</th>\n",
       "      <td>1</td>\n",
       "      <td>0</td>\n",
       "      <td>7</td>\n",
       "      <td>2015</td>\n",
       "      <td>5</td>\n",
       "      <td>27</td>\n",
       "      <td>1</td>\n",
       "      <td>0</td>\n",
       "      <td>1</td>\n",
       "      <td>1</td>\n",
       "      <td>...</td>\n",
       "      <td>0</td>\n",
       "      <td>2</td>\n",
       "      <td>0</td>\n",
       "      <td>0</td>\n",
       "      <td>0</td>\n",
       "      <td>2</td>\n",
       "      <td>75.00</td>\n",
       "      <td>0</td>\n",
       "      <td>0</td>\n",
       "      <td>1</td>\n",
       "    </tr>\n",
       "    <tr>\n",
       "      <th>3</th>\n",
       "      <td>1</td>\n",
       "      <td>0</td>\n",
       "      <td>13</td>\n",
       "      <td>2015</td>\n",
       "      <td>5</td>\n",
       "      <td>27</td>\n",
       "      <td>1</td>\n",
       "      <td>0</td>\n",
       "      <td>1</td>\n",
       "      <td>1</td>\n",
       "      <td>...</td>\n",
       "      <td>0</td>\n",
       "      <td>0</td>\n",
       "      <td>0</td>\n",
       "      <td>0</td>\n",
       "      <td>0</td>\n",
       "      <td>2</td>\n",
       "      <td>75.00</td>\n",
       "      <td>0</td>\n",
       "      <td>0</td>\n",
       "      <td>1</td>\n",
       "    </tr>\n",
       "    <tr>\n",
       "      <th>4</th>\n",
       "      <td>1</td>\n",
       "      <td>0</td>\n",
       "      <td>14</td>\n",
       "      <td>2015</td>\n",
       "      <td>5</td>\n",
       "      <td>27</td>\n",
       "      <td>1</td>\n",
       "      <td>0</td>\n",
       "      <td>2</td>\n",
       "      <td>2</td>\n",
       "      <td>...</td>\n",
       "      <td>0</td>\n",
       "      <td>0</td>\n",
       "      <td>0</td>\n",
       "      <td>0</td>\n",
       "      <td>0</td>\n",
       "      <td>2</td>\n",
       "      <td>98.00</td>\n",
       "      <td>0</td>\n",
       "      <td>1</td>\n",
       "      <td>1</td>\n",
       "    </tr>\n",
       "    <tr>\n",
       "      <th>...</th>\n",
       "      <td>...</td>\n",
       "      <td>...</td>\n",
       "      <td>...</td>\n",
       "      <td>...</td>\n",
       "      <td>...</td>\n",
       "      <td>...</td>\n",
       "      <td>...</td>\n",
       "      <td>...</td>\n",
       "      <td>...</td>\n",
       "      <td>...</td>\n",
       "      <td>...</td>\n",
       "      <td>...</td>\n",
       "      <td>...</td>\n",
       "      <td>...</td>\n",
       "      <td>...</td>\n",
       "      <td>...</td>\n",
       "      <td>...</td>\n",
       "      <td>...</td>\n",
       "      <td>...</td>\n",
       "      <td>...</td>\n",
       "      <td>...</td>\n",
       "    </tr>\n",
       "    <tr>\n",
       "      <th>86935</th>\n",
       "      <td>0</td>\n",
       "      <td>0</td>\n",
       "      <td>23</td>\n",
       "      <td>2017</td>\n",
       "      <td>1</td>\n",
       "      <td>35</td>\n",
       "      <td>30</td>\n",
       "      <td>2</td>\n",
       "      <td>5</td>\n",
       "      <td>2</td>\n",
       "      <td>...</td>\n",
       "      <td>0</td>\n",
       "      <td>0</td>\n",
       "      <td>0</td>\n",
       "      <td>0</td>\n",
       "      <td>0</td>\n",
       "      <td>2</td>\n",
       "      <td>96.14</td>\n",
       "      <td>0</td>\n",
       "      <td>0</td>\n",
       "      <td>1</td>\n",
       "    </tr>\n",
       "    <tr>\n",
       "      <th>86936</th>\n",
       "      <td>0</td>\n",
       "      <td>0</td>\n",
       "      <td>102</td>\n",
       "      <td>2017</td>\n",
       "      <td>1</td>\n",
       "      <td>35</td>\n",
       "      <td>31</td>\n",
       "      <td>2</td>\n",
       "      <td>5</td>\n",
       "      <td>3</td>\n",
       "      <td>...</td>\n",
       "      <td>4</td>\n",
       "      <td>4</td>\n",
       "      <td>0</td>\n",
       "      <td>0</td>\n",
       "      <td>0</td>\n",
       "      <td>2</td>\n",
       "      <td>225.43</td>\n",
       "      <td>0</td>\n",
       "      <td>2</td>\n",
       "      <td>1</td>\n",
       "    </tr>\n",
       "    <tr>\n",
       "      <th>86937</th>\n",
       "      <td>0</td>\n",
       "      <td>0</td>\n",
       "      <td>34</td>\n",
       "      <td>2017</td>\n",
       "      <td>1</td>\n",
       "      <td>35</td>\n",
       "      <td>31</td>\n",
       "      <td>2</td>\n",
       "      <td>5</td>\n",
       "      <td>2</td>\n",
       "      <td>...</td>\n",
       "      <td>3</td>\n",
       "      <td>3</td>\n",
       "      <td>0</td>\n",
       "      <td>0</td>\n",
       "      <td>0</td>\n",
       "      <td>2</td>\n",
       "      <td>157.71</td>\n",
       "      <td>0</td>\n",
       "      <td>4</td>\n",
       "      <td>1</td>\n",
       "    </tr>\n",
       "    <tr>\n",
       "      <th>86938</th>\n",
       "      <td>0</td>\n",
       "      <td>0</td>\n",
       "      <td>109</td>\n",
       "      <td>2017</td>\n",
       "      <td>1</td>\n",
       "      <td>35</td>\n",
       "      <td>31</td>\n",
       "      <td>2</td>\n",
       "      <td>5</td>\n",
       "      <td>2</td>\n",
       "      <td>...</td>\n",
       "      <td>0</td>\n",
       "      <td>0</td>\n",
       "      <td>0</td>\n",
       "      <td>0</td>\n",
       "      <td>0</td>\n",
       "      <td>2</td>\n",
       "      <td>104.40</td>\n",
       "      <td>0</td>\n",
       "      <td>0</td>\n",
       "      <td>1</td>\n",
       "    </tr>\n",
       "    <tr>\n",
       "      <th>86939</th>\n",
       "      <td>0</td>\n",
       "      <td>0</td>\n",
       "      <td>205</td>\n",
       "      <td>2017</td>\n",
       "      <td>1</td>\n",
       "      <td>35</td>\n",
       "      <td>29</td>\n",
       "      <td>2</td>\n",
       "      <td>7</td>\n",
       "      <td>2</td>\n",
       "      <td>...</td>\n",
       "      <td>0</td>\n",
       "      <td>0</td>\n",
       "      <td>0</td>\n",
       "      <td>0</td>\n",
       "      <td>0</td>\n",
       "      <td>2</td>\n",
       "      <td>151.20</td>\n",
       "      <td>0</td>\n",
       "      <td>2</td>\n",
       "      <td>1</td>\n",
       "    </tr>\n",
       "  </tbody>\n",
       "</table>\n",
       "<p>86940 rows × 29 columns</p>\n",
       "</div>"
      ],
      "text/plain": [
       "       hotel  is_canceled  lead_time  arrival_date_year  arrival_date_month  \\\n",
       "0          1            0        342               2015                   5   \n",
       "1          1            0        737               2015                   5   \n",
       "2          1            0          7               2015                   5   \n",
       "3          1            0         13               2015                   5   \n",
       "4          1            0         14               2015                   5   \n",
       "...      ...          ...        ...                ...                 ...   \n",
       "86935      0            0         23               2017                   1   \n",
       "86936      0            0        102               2017                   1   \n",
       "86937      0            0         34               2017                   1   \n",
       "86938      0            0        109               2017                   1   \n",
       "86939      0            0        205               2017                   1   \n",
       "\n",
       "       arrival_date_week_number  arrival_date_day_of_month  \\\n",
       "0                            27                          1   \n",
       "1                            27                          1   \n",
       "2                            27                          1   \n",
       "3                            27                          1   \n",
       "4                            27                          1   \n",
       "...                         ...                        ...   \n",
       "86935                        35                         30   \n",
       "86936                        35                         31   \n",
       "86937                        35                         31   \n",
       "86938                        35                         31   \n",
       "86939                        35                         29   \n",
       "\n",
       "       stays_in_weekend_nights  stays_in_week_nights  adults  ...  \\\n",
       "0                            0                     0       2  ...   \n",
       "1                            0                     0       2  ...   \n",
       "2                            0                     1       1  ...   \n",
       "3                            0                     1       1  ...   \n",
       "4                            0                     2       2  ...   \n",
       "...                        ...                   ...     ...  ...   \n",
       "86935                        2                     5       2  ...   \n",
       "86936                        2                     5       3  ...   \n",
       "86937                        2                     5       2  ...   \n",
       "86938                        2                     5       2  ...   \n",
       "86939                        2                     7       2  ...   \n",
       "\n",
       "       reserved_room_type  assigned_room_type  booking_changes  deposit_type  \\\n",
       "0                       2                   2                3             0   \n",
       "1                       2                   2                4             0   \n",
       "2                       0                   2                0             0   \n",
       "3                       0                   0                0             0   \n",
       "4                       0                   0                0             0   \n",
       "...                   ...                 ...              ...           ...   \n",
       "86935                   0                   0                0             0   \n",
       "86936                   4                   4                0             0   \n",
       "86937                   3                   3                0             0   \n",
       "86938                   0                   0                0             0   \n",
       "86939                   0                   0                0             0   \n",
       "\n",
       "       days_in_waiting_list  customer_type     adr  \\\n",
       "0                         0              2    0.00   \n",
       "1                         0              2    0.00   \n",
       "2                         0              2   75.00   \n",
       "3                         0              2   75.00   \n",
       "4                         0              2   98.00   \n",
       "...                     ...            ...     ...   \n",
       "86935                     0              2   96.14   \n",
       "86936                     0              2  225.43   \n",
       "86937                     0              2  157.71   \n",
       "86938                     0              2  104.40   \n",
       "86939                     0              2  151.20   \n",
       "\n",
       "       required_car_parking_spaces  total_of_special_requests  Cluster  \n",
       "0                                0                          0        0  \n",
       "1                                0                          0        0  \n",
       "2                                0                          0        1  \n",
       "3                                0                          0        1  \n",
       "4                                0                          1        1  \n",
       "...                            ...                        ...      ...  \n",
       "86935                            0                          0        1  \n",
       "86936                            0                          2        1  \n",
       "86937                            0                          4        1  \n",
       "86938                            0                          0        1  \n",
       "86939                            0                          2        1  \n",
       "\n",
       "[86940 rows x 29 columns]"
      ]
     },
     "metadata": {},
     "output_type": "display_data"
    }
   ],
   "source": [
    "df = pd.read_csv('clustering_results.csv')\n",
    "display(df)"
   ]
  },
  {
   "cell_type": "markdown",
   "metadata": {
    "id": "KkPem5eWL2UP"
   },
   "source": [
    "# **3. Data Splitting**"
   ]
  },
  {
   "cell_type": "markdown",
   "metadata": {
    "id": "YYj1rl_JNI9Y"
   },
   "source": [
    "Tahap Data Splitting bertujuan untuk memisahkan dataset menjadi dua bagian: data latih (training set) dan data uji (test set)."
   ]
  },
  {
   "cell_type": "code",
   "execution_count": 7,
   "metadata": {},
   "outputs": [
    {
     "name": "stdout",
     "output_type": "stream",
     "text": [
      "Ukuran total dataset: 86655\n",
      "Ukuran data latih: 69324\n",
      "Ukuran data uji: 17331\n"
     ]
    }
   ],
   "source": [
    "df_unique = df.drop_duplicates().reset_index(drop=True)\n",
    "X = df_unique.drop(columns=['Cluster'])\n",
    "y = df_unique['Cluster']\n",
    "X = X.reset_index(drop=True)\n",
    "y = y.reset_index(drop=True)\n",
    "X_train, X_test, y_train, y_test = train_test_split(X, y, test_size=0.2, stratify=y, random_state=42, shuffle=True)\n",
    "\n",
    "print(f\"Ukuran total dataset: {len(X)}\")\n",
    "print(f\"Ukuran data latih: {len(X_train)}\")\n",
    "print(f\"Ukuran data uji: {len(X_test)}\")\n"
   ]
  },
  {
   "cell_type": "code",
   "execution_count": 8,
   "metadata": {},
   "outputs": [
    {
     "name": "stdout",
     "output_type": "stream",
     "text": [
      "Jumlah baris yang tumpang tindih antara data latih dan data uji setelah menghapus duplikat: 0\n"
     ]
    }
   ],
   "source": [
    "overlap = pd.merge(X_train.assign(index=X_train.index),\n",
    "                   X_test.assign(index=X_test.index),\n",
    "                   how='inner',\n",
    "                   on=list(X.columns),\n",
    "                   indicator=False)\n",
    "\n",
    "print(f\"Jumlah baris yang tumpang tindih antara data latih dan data uji setelah menghapus duplikat: {len(overlap)}\")\n"
   ]
  },
  {
   "cell_type": "markdown",
   "metadata": {
    "id": "IVPbB03CMhTT"
   },
   "source": [
    "# **4. Membangun Model Klasifikasi**\n"
   ]
  },
  {
   "cell_type": "markdown",
   "metadata": {
    "id": "Ned1pL9zMmBK"
   },
   "source": [
    "## **a. Membangun Model Klasifikasi**"
   ]
  },
  {
   "cell_type": "markdown",
   "metadata": {
    "id": "WAWzPOE4Nkti"
   },
   "source": [
    "Setelah memilih algoritma klasifikasi yang sesuai, langkah selanjutnya adalah melatih model menggunakan data latih.\n",
    "\n",
    "Berikut adalah rekomendasi tahapannya.\n",
    "1. Pilih algoritma klasifikasi yang sesuai, seperti Logistic Regression, Decision Tree, Random Forest, atau K-Nearest Neighbors (KNN).\n",
    "2. Latih model menggunakan data latih."
   ]
  },
  {
   "cell_type": "code",
   "execution_count": 9,
   "metadata": {
    "id": "4JYxBe87NLDk"
   },
   "outputs": [],
   "source": [
    "models = {\n",
    "    'Random Forest': RandomForestClassifier(n_estimators=100, random_state=42),\n",
    "    'Logistic Regression': LogisticRegression(max_iter=1000, random_state=42),\n",
    "    'SVM': SVC(random_state=42)\n",
    "}\n",
    "cv_scores = {}"
   ]
  },
  {
   "cell_type": "markdown",
   "metadata": {
    "id": "seYoHNY3XU1y"
   },
   "source": [
    "# Penjelasan Algoritma yang Digunakan\n",
    "\n",
    "Dalam proyek ini, kita menggunakan tiga algoritma machine learning utama untuk tugas klasifikasi. Masing-masing algoritma memiliki karakteristik unik yang membuatnya cocok untuk berbagai jenis data dan masalah. Selain itu, kita menerapkan teknik validasi silang untuk memastikan bahwa model yang dibangun memiliki performa yang baik dan dapat menggeneralisasi dengan baik pada data baru.\n",
    "\n",
    "## Daftar Algoritma\n",
    "\n",
    "1. **Random Forest**\n",
    "2. **Regresi Logistik**\n",
    "3. **Support Vector Machine (SVM)**\n",
    "\n",
    "Selain ketiga algoritma tersebut, kita juga menyiapkan sebuah dictionary kosong `cv_scores = {}` yang akan digunakan untuk menyimpan skor validasi silang dari setiap model.\n",
    "\n",
    "## 1. Random Forest\n",
    "\n",
    "### Deskripsi\n",
    "\n",
    "Random Forest adalah algoritma ensemble yang terdiri dari sejumlah pohon keputusan (*decision trees*). Algoritma ini bekerja dengan membangun banyak pohon keputusan pada subset data yang berbeda dan kemudian menggabungkan hasil prediksi dari semua pohon tersebut. Pendekatan ini membantu meningkatkan akurasi prediksi serta mengurangi risiko overfitting yang sering terjadi pada pohon keputusan tunggal.\n",
    "\n",
    "### Kelebihan\n",
    "\n",
    "- **Akurasi Tinggi**: Kombinasi beberapa pohon keputusan dapat menangkap berbagai pola dalam data.\n",
    "- **Mengurangi Overfitting**: Teknik ensemble membantu dalam mengurangi variansi model.\n",
    "- **Mampu Menangani Data Besar**: Efektif untuk dataset dengan fitur yang banyak.\n",
    "- **Fleksibilitas**: Dapat digunakan untuk masalah klasifikasi dan regresi.\n",
    "\n",
    "### Kekurangan\n",
    "\n",
    "- **Kompleksitas Tinggi**: Model yang terdiri dari banyak pohon dapat menjadi sulit untuk diinterpretasikan.\n",
    "- **Waktu Pelatihan**: Membangun banyak pohon keputusan membutuhkan waktu komputasi yang lebih lama.\n",
    "\n",
    "### Penerapan dalam Proyek\n",
    "\n",
    "Dalam proyek ini, Random Forest digunakan untuk menangani tugas klasifikasi dengan menggabungkan kekuatan beberapa pohon keputusan. Dengan parameter tertentu, algoritma ini dapat dioptimalkan untuk mencapai performa terbaik.\n",
    "\n",
    "## 2. Regresi Logistik\n",
    "\n",
    "### Deskripsi\n",
    "\n",
    "Regresi Logistik adalah algoritma statistik yang digunakan untuk memodelkan probabilitas kejadian suatu kelas dengan menggunakan fungsi logit. Meskipun namanya \"regresi\", algoritma ini sangat efektif untuk masalah klasifikasi, baik biner maupun multikelas. Regresi Logistik memprediksi probabilitas suatu instance termasuk dalam kelas tertentu berdasarkan kombinasi linear dari fitur-fiturnya.\n",
    "\n",
    "### Kelebihan\n",
    "\n",
    "- **Sederhana dan Efisien**: Mudah diimplementasikan dan cepat dalam pelatihan.\n",
    "- **Interpretabilitas Tinggi**: Koefisien model dapat diinterpretasikan sebagai dampak fitur terhadap probabilitas kelas.\n",
    "- **Probabilistic Output**: Memberikan probabilitas yang dapat digunakan untuk pengambilan keputusan lebih lanjut.\n",
    "- **Cocok untuk Data Berukuran Sedang**: Efektif pada dataset dengan jumlah fitur yang tidak terlalu besar.\n",
    "\n",
    "### Kekurangan\n",
    "\n",
    "- **Asumsi Linear**: Mengasumsikan hubungan linear antara fitur dan log-odds, yang mungkin tidak selalu sesuai.\n",
    "- **Kurang Efektif untuk Fitur Tinggi**: Mungkin tidak menangkap interaksi kompleks antara fitur.\n",
    "\n",
    "### Penerapan dalam Proyek\n",
    "\n",
    "Regresi Logistik digunakan untuk memprediksi kelas target dengan memodelkan probabilitas berdasarkan kombinasi linear fitur-fitur input. Dengan parameter yang diatur untuk memastikan konvergensi pada dataset yang kompleks, model ini memberikan dasar yang kuat untuk perbandingan dengan algoritma lainnya.\n",
    "\n",
    "## 3. Support Vector Machine (SVM)\n",
    "\n",
    "### Deskripsi\n",
    "\n",
    "Support Vector Machine (SVM) adalah algoritma yang mencari hyperplane optimal yang memisahkan data dari kelas yang berbeda dengan margin maksimum. SVM efektif dalam ruang berdimensi tinggi dan dapat digunakan untuk masalah klasifikasi maupun regresi. Dengan menggunakan kernel trick, SVM dapat menangani data yang tidak dapat dipisahkan secara linear.\n",
    "\n",
    "### Kelebihan\n",
    "\n",
    "- **Margin Maksimum**: Mencari pemisahan yang paling jauh dari data, meningkatkan generalisasi model.\n",
    "- **Efektif di Ruang Dimensi Tinggi**: Cocok untuk dataset dengan banyak fitur.\n",
    "- **Fleksibilitas dengan Kernel**: Dapat menangani berbagai jenis data dengan memilih kernel yang sesuai.\n",
    "\n",
    "### Kekurangan\n",
    "\n",
    "- **Waktu Komputasi**: Kurang efisien untuk dataset yang sangat besar.\n",
    "- **Pemilihan Kernel**: Memilih kernel yang tepat dan mengatur parameter dapat menjadi kompleks.\n",
    "- **Sensitif terhadap Parameter**: Performa model sangat bergantung pada pengaturan parameter seperti C dan gamma.\n",
    "\n",
    "### Penerapan dalam Proyek\n",
    "\n",
    "SVM digunakan untuk memisahkan kelas target dengan mencari hyperplane yang optimal. Dengan pengaturan parameter yang sesuai, SVM mampu menangani data yang kompleks dan menyediakan model yang kuat untuk klasifikasi.\n"
   ]
  },
  {
   "cell_type": "markdown",
   "metadata": {
    "id": "ergzChZFEL-O"
   },
   "source": [
    "## **b. Evaluasi Model Klasifikasi**"
   ]
  },
  {
   "cell_type": "markdown",
   "metadata": {
    "id": "zOm68u-7NpLT"
   },
   "source": [
    "Berikut adalah **rekomendasi** tahapannya.\n",
    "1. Lakukan prediksi menggunakan data uji.\n",
    "2. Hitung metrik evaluasi seperti Accuracy dan F1-Score (Opsional: Precision dan Recall).\n",
    "3. Buat confusion matrix untuk melihat detail prediksi benar dan salah."
   ]
  },
  {
   "cell_type": "code",
   "execution_count": 10,
   "metadata": {
    "id": "tMq4QAssNLip"
   },
   "outputs": [
    {
     "name": "stdout",
     "output_type": "stream",
     "text": [
      "\n",
      "Melatih dan mengevaluasi Random Forest...\n",
      "Skor Akurasi Cross-validation: [1. 1. 1. 1. 1.]\n",
      "Rata-rata Akurasi: 1.0000\n",
      "\n",
      "Melatih dan mengevaluasi Logistic Regression...\n",
      "Skor Akurasi Cross-validation: [1.         0.99992788 1.         1.         1.        ]\n",
      "Rata-rata Akurasi: 1.0000\n",
      "\n",
      "Melatih dan mengevaluasi SVM...\n",
      "Skor Akurasi Cross-validation: [0.99278759 0.99184998 0.99134511 0.99235485 0.99257069]\n",
      "Rata-rata Akurasi: 0.9922\n"
     ]
    }
   ],
   "source": [
    "skf = StratifiedKFold(n_splits=5, shuffle=True, random_state=42)\n",
    "for name, clf in models.items():\n",
    "    print(f\"\\nMelatih dan mengevaluasi {name}...\")\n",
    "    scores = cross_val_score(clf, X_train, y_train, cv=skf, scoring='accuracy')\n",
    "    cv_scores[name] = scores\n",
    "    print(f\"Skor Akurasi Cross-validation: {scores}\")\n",
    "    print(f\"Rata-rata Akurasi: {scores.mean():.4f}\")\n"
   ]
  },
  {
   "cell_type": "code",
   "execution_count": 11,
   "metadata": {},
   "outputs": [
    {
     "name": "stdout",
     "output_type": "stream",
     "text": [
      "\n",
      "Performa Random Forest (Cross-Validation):\n",
      "Akurasi Training: 100.00% (+/- 0.00%)\n",
      "Akurasi Validasi: 100.00% (+/- 0.00%)\n",
      "F1-Score Training: 100.00% (+/- 0.00%)\n",
      "F1-Score Validasi: 100.00% (+/- 0.00%)\n",
      "Precision Training: 100.00% (+/- 0.00%)\n",
      "Precision Validasi: 100.00% (+/- 0.00%)\n",
      "Recall Training: 100.00% (+/- 0.00%)\n",
      "Recall Validasi: 100.00% (+/- 0.00%)\n",
      "Akurasi Test pada Hold-out Set: 100.00%\n",
      "F1-Score Test pada Hold-out Set: 100.00%\n",
      "Precision Test pada Hold-out Set: 100.00%\n",
      "Recall Test pada Hold-out Set: 100.00%\n"
     ]
    },
    {
     "data": {
      "image/png": "[encoded data removed]",
      "text/plain": [
       "<Figure size 600x400 with 2 Axes>"
      ]
     },
     "metadata": {},
     "output_type": "display_data"
    },
    {
     "name": "stdout",
     "output_type": "stream",
     "text": [
      "\n",
      "Performa Logistic Regression (Cross-Validation):\n",
      "Akurasi Training: 99.98% (+/- 0.00%)\n",
      "Akurasi Validasi: 99.98% (+/- 0.02%)\n",
      "F1-Score Training: 99.98% (+/- 0.00%)\n",
      "F1-Score Validasi: 99.97% (+/- 0.02%)\n",
      "Precision Training: 99.98% (+/- 0.00%)\n",
      "Precision Validasi: 99.98% (+/- 0.02%)\n",
      "Recall Training: 99.98% (+/- 0.01%)\n",
      "Recall Validasi: 99.97% (+/- 0.02%)\n",
      "Akurasi Test pada Hold-out Set: 99.99%\n",
      "F1-Score Test pada Hold-out Set: 99.99%\n",
      "Precision Test pada Hold-out Set: 100.00%\n",
      "Recall Test pada Hold-out Set: 99.99%\n"
     ]
    },
    {
     "data": {
      "image/png": "[encoded data removed]",
      "text/plain": [
       "<Figure size 600x400 with 2 Axes>"
      ]
     },
     "metadata": {},
     "output_type": "display_data"
    },
    {
     "name": "stdout",
     "output_type": "stream",
     "text": [
      "\n",
      "Performa SVM (Cross-Validation):\n",
      "Akurasi Training: 99.98% (+/- 0.00%)\n",
      "Akurasi Validasi: 99.88% (+/- 0.02%)\n",
      "F1-Score Training: 99.98% (+/- 0.00%)\n",
      "F1-Score Validasi: 99.88% (+/- 0.03%)\n",
      "Precision Training: 99.98% (+/- 0.00%)\n",
      "Precision Validasi: 99.88% (+/- 0.03%)\n",
      "Recall Training: 99.98% (+/- 0.00%)\n",
      "Recall Validasi: 99.88% (+/- 0.03%)\n",
      "Akurasi Test pada Hold-out Set: 99.91%\n",
      "F1-Score Test pada Hold-out Set: 99.91%\n",
      "Precision Test pada Hold-out Set: 99.91%\n",
      "Recall Test pada Hold-out Set: 99.91%\n"
     ]
    },
    {
     "data": {
      "image/png": "[encoded data removed]",
      "text/plain": [
       "<Figure size 600x400 with 2 Axes>"
      ]
     },
     "metadata": {},
     "output_type": "display_data"
    }
   ],
   "source": [
    "cv = KFold(n_splits=5, shuffle=True, random_state=42)\n",
    "\n",
    "for model_name, model in models.items():\n",
    "    pipeline = Pipeline([\n",
    "        ('scaler', StandardScaler()),\n",
    "        ('classifier', model)\n",
    "    ])\n",
    "    \n",
    "    scores = cross_validate(pipeline, X_train, y_train, cv=cv,\n",
    "                            scoring=['accuracy', 'f1_macro', 'precision_macro', 'recall_macro'],\n",
    "                            return_train_score=True)\n",
    "    \n",
    "    train_accuracy_mean = scores['train_accuracy'].mean() * 100\n",
    "    train_accuracy_std = scores['train_accuracy'].std() * 100\n",
    "    test_accuracy_mean = scores['test_accuracy'].mean() * 100\n",
    "    test_accuracy_std = scores['test_accuracy'].std() * 100\n",
    "    \n",
    "    train_f1_mean = scores['train_f1_macro'].mean() * 100\n",
    "    train_f1_std = scores['train_f1_macro'].std() * 100\n",
    "    test_f1_mean = scores['test_f1_macro'].mean() * 100\n",
    "    test_f1_std = scores['test_f1_macro'].std() * 100\n",
    "    \n",
    "    train_precision_mean = scores['train_precision_macro'].mean() * 100\n",
    "    train_precision_std = scores['train_precision_macro'].std() * 100\n",
    "    test_precision_mean = scores['test_precision_macro'].mean() * 100\n",
    "    test_precision_std = scores['test_precision_macro'].std() * 100\n",
    "    \n",
    "    train_recall_mean = scores['train_recall_macro'].mean() * 100\n",
    "    train_recall_std = scores['train_recall_macro'].std() * 100\n",
    "    test_recall_mean = scores['test_recall_macro'].mean() * 100\n",
    "    test_recall_std = scores['test_recall_macro'].std() * 100\n",
    "    \n",
    "    print(f\"\\nPerforma {model_name} (Cross-Validation):\")\n",
    "    print(f\"Akurasi Training: {train_accuracy_mean:.2f}% (+/- {train_accuracy_std:.2f}%)\")\n",
    "    print(f\"Akurasi Validasi: {test_accuracy_mean:.2f}% (+/- {test_accuracy_std:.2f}%)\")\n",
    "    print(f\"F1-Score Training: {train_f1_mean:.2f}% (+/- {train_f1_std:.2f}%)\")\n",
    "    print(f\"F1-Score Validasi: {test_f1_mean:.2f}% (+/- {test_f1_std:.2f}%)\")\n",
    "    print(f\"Precision Training: {train_precision_mean:.2f}% (+/- {train_precision_std:.2f}%)\")\n",
    "    print(f\"Precision Validasi: {test_precision_mean:.2f}% (+/- {test_precision_std:.2f}%)\")\n",
    "    print(f\"Recall Training: {train_recall_mean:.2f}% (+/- {train_recall_std:.2f}%)\")\n",
    "    print(f\"Recall Validasi: {test_recall_mean:.2f}% (+/- {test_recall_std:.2f}%)\")\n",
    "    \n",
    "    pipeline.fit(X_train, y_train)\n",
    "    \n",
    "    y_test_pred = pipeline.predict(X_test)\n",
    "    test_accuracy_final = accuracy_score(y_test, y_test_pred) * 100\n",
    "    test_f1_final = f1_score(y_test, y_test_pred, average='macro') * 100\n",
    "    test_precision_final = precision_score(y_test, y_test_pred, average='macro') * 100\n",
    "    test_recall_final = recall_score(y_test, y_test_pred, average='macro') * 100\n",
    "    \n",
    "    print(f\"Akurasi Test pada Hold-out Set: {test_accuracy_final:.2f}%\")\n",
    "    print(f\"F1-Score Test pada Hold-out Set: {test_f1_final:.2f}%\")\n",
    "    print(f\"Precision Test pada Hold-out Set: {test_precision_final:.2f}%\")\n",
    "    print(f\"Recall Test pada Hold-out Set: {test_recall_final:.2f}%\")\n",
    "    \n",
    "    cm = confusion_matrix(y_test, y_test_pred)\n",
    "    plt.figure(figsize=(6, 4))\n",
    "    sns.heatmap(cm, annot=True, fmt='d', cmap='Blues')\n",
    "    plt.title(f'Confusion Matrix - {model_name}')\n",
    "    plt.ylabel('Kelas Aktual')\n",
    "    plt.xlabel('Kelas Prediksi')\n",
    "    plt.show()\n"
   ]
  },
  {
   "cell_type": "markdown",
   "metadata": {
    "id": "H4_9OwrsXZlz"
   },
   "source": [
    "# Evaluasi dan Perbandingan Algoritma Terbaru\n",
    "\n",
    "## **1. SVM (Support Vector Machine)**\n",
    "\n",
    "### **Hasil Performansi:**\n",
    "- **Training Accuracy:** 99.98% (+/- 0.00%)\n",
    "- **Validation Accuracy:** 99.88% (+/- 0.02%)\n",
    "- **Training F1-Score:** 99.98% (+/- 0.00%)\n",
    "- **Validation F1-Score:** 99.88% (+/- 0.03%)\n",
    "- **Precision Training:** 99.98% (+/- 0.00%)\n",
    "- **Precision Validation:** 99.88% (+/- 0.03%)\n",
    "- **Recall Training:** 99.98% (+/- 0.00%)\n",
    "- **Recall Validation:** 99.88% (+/- 0.03%)\n",
    "- **Test Accuracy (Hold-out Set):** 99.91%\n",
    "- **Test F1-Score (Hold-out Set):** 99.91%\n",
    "- **Test Precision (Hold-out Set):** 99.91%\n",
    "- **Test Recall (Hold-out Set):** 99.91%\n",
    "\n",
    "### **Kelebihan:**\n",
    "- Performa stabil di berbagai metrik menunjukkan konsistensi dan generalisasi yang baik.\n",
    "- Variasi performa pada validasi sangat kecil, mencerminkan stabilitas model.\n",
    "\n",
    "### **Kekurangan:**\n",
    "- Performansi lebih rendah dibandingkan Logistic Regression dan Random Forest pada data test set.\n",
    "- Waktu komputasi lebih tinggi dibandingkan Logistic Regression.\n",
    "\n",
    "---\n",
    "\n",
    "## **2. Logistic Regression**\n",
    "\n",
    "### **Hasil Performansi:**\n",
    "- **Training Accuracy:** 99.98% (+/- 0.00%)\n",
    "- **Validation Accuracy:** 99.98% (+/- 0.02%)\n",
    "- **Training F1-Score:** 99.98% (+/- 0.00%)\n",
    "- **Validation F1-Score:** 99.97% (+/- 0.02%)\n",
    "- **Precision Training:** 99.98% (+/- 0.00%)\n",
    "- **Precision Validation:** 99.98% (+/- 0.02%)\n",
    "- **Recall Training:** 99.98% (+/- 0.01%)\n",
    "- **Recall Validation:** 99.97% (+/- 0.02%)\n",
    "- **Test Accuracy (Hold-out Set):** 99.99%\n",
    "- **Test F1-Score (Hold-out Set):** 99.99%\n",
    "- **Test Precision (Hold-out Set):** 100.00%\n",
    "- **Test Recall (Hold-out Set):** 99.99%\n",
    "\n",
    "### **Kelebihan:**\n",
    "- Metrik performa pada data test set sangat tinggi, dengan precision mencapai 100%.\n",
    "- Waktu komputasi relatif cepat dibandingkan algoritma lain.\n",
    "- Konsisten pada data linear dan sederhana, memberikan performa hampir sempurna.\n",
    "\n",
    "### **Kekurangan:**\n",
    "- Performansi kurang kompetitif untuk pola data yang sangat kompleks atau non-linear dibandingkan Random Forest.\n",
    "- Sedikit lebih rendah dibandingkan Random Forest dalam menangkap variasi kompleks.\n",
    "\n",
    "---\n",
    "\n",
    "## **3. Random Forest**\n",
    "\n",
    "### **Hasil Performansi:**\n",
    "- **Training Accuracy:** 100.00% (+/- 0.00%)\n",
    "- **Validation Accuracy:** 100.00% (+/- 0.00%)\n",
    "- **Training F1-Score:** 100.00% (+/- 0.00%)\n",
    "- **Validation F1-Score:** 100.00% (+/- 0.00%)\n",
    "- **Precision Training:** 100.00% (+/- 0.00%)\n",
    "- **Precision Validation:** 100.00% (+/- 0.00%)\n",
    "- **Recall Training:** 100.00% (+/- 0.00%)\n",
    "- **Recall Validation:** 100.00% (+/- 0.00%)\n",
    "- **Test Accuracy (Hold-out Set):** 100.00%\n",
    "- **Test F1-Score (Hold-out Set):** 100.00%\n",
    "- **Test Precision (Hold-out Set):** 100.00%\n",
    "- **Test Recall (Hold-out Set):** 100.00%\n",
    "\n",
    "### **Kelebihan:**\n",
    "- Memberikan performa sempurna di semua metrik, menunjukkan kemampuan menangkap pola data yang kompleks dan non-linear.\n",
    "- Sangat robust terhadap noise dan memiliki kemampuan generalisasi yang kuat dengan metode ensemble.\n",
    "- Tidak menunjukkan tanda-tanda overfitting meski hasilnya sempurna.\n",
    "\n",
    "### **Kekurangan:**\n",
    "- Tidak ada variasi performa di validasi dan test set, berpotensi karena dataset terlalu mudah atau terdapat kebocoran data.\n",
    "- Memerlukan waktu komputasi lebih lama dibandingkan Logistic Regression.\n"
   ]
  },
  {
   "cell_type": "markdown",
   "metadata": {
    "id": "ph9yIYDXEPuB"
   },
   "source": [
    "## **c. Tuning Model Klasifikasi (Optional)**"
   ]
  },
  {
   "cell_type": "markdown",
   "metadata": {
    "id": "-Bikx3LINv5e"
   },
   "source": [
    "Gunakan GridSearchCV, RandomizedSearchCV, atau metode lainnya untuk mencari kombinasi hyperparameter terbaik"
   ]
  },
  {
   "cell_type": "markdown",
   "metadata": {
    "id": "hE7pqlEPEYzI"
   },
   "source": [
    "## **d. Evaluasi Model Klasifikasi setelah Tuning (Optional)**"
   ]
  },
  {
   "cell_type": "markdown",
   "metadata": {
    "id": "feaPESoeN0zz"
   },
   "source": [
    "Berikut adalah rekomendasi tahapannya.\n",
    "1. Gunakan model dengan hyperparameter terbaik.\n",
    "2. Hitung ulang metrik evaluasi untuk melihat apakah ada peningkatan performa."
   ]
  },
  {
   "cell_type": "markdown",
   "metadata": {
    "id": "ZRsOdm4uEgAW"
   },
   "source": [
    "## **e. Analisis Hasil Evaluasi Model Klasifikasi**"
   ]
  },
  {
   "cell_type": "markdown",
   "metadata": {
    "id": "Hm3BhSi6N4_l"
   },
   "source": [
    "Berikut adalah **rekomendasi** tahapannya.\n",
    "1. Bandingkan hasil evaluasi sebelum dan setelah tuning (jika dilakukan).\n",
    "2. Identifikasi kelemahan model, seperti:\n",
    "  - Precision atau Recall rendah untuk kelas tertentu.\n",
    "  - Apakah model mengalami overfitting atau underfitting?\n",
    "3. Berikan rekomendasi tindakan lanjutan, seperti mengumpulkan data tambahan atau mencoba algoritma lain jika hasil belum memuaskan."
   ]
  },
  {
   "cell_type": "markdown",
   "metadata": {},
   "source": [
    "## **2. Identifikasi Kelemahan Model**\n",
    "### **Precision dan Recall Rendah untuk Kelas Tertentu**\n",
    "- Periksa **confusion matrix** untuk setiap model:\n",
    "  - Jika precision atau recall rendah untuk kelas tertentu, itu menandakan model bias terhadap kelas yang lebih dominan.\n",
    "  - Logistic Regression dan Random Forest memiliki precision sempurna, namun analisis per kelas tetap diperlukan untuk memahami distribusi prediksi.\n",
    "\n",
    "### **Overfitting atau Underfitting**\n",
    "- **Overfitting:**\n",
    "  - Random Forest mungkin mengalami overfitting karena menunjukkan performa sempurna pada training, validation, dan test set.\n",
    "  - Performa yang terlalu tinggi dengan variasi nol di cross-validation menunjukkan dataset terlalu mudah atau kemungkinan kebocoran data.\n",
    "  \n",
    "- **Underfitting:**\n",
    "  - Tidak ada indikasi underfitting untuk model yang digunakan. Semua algoritma mencapai performa sangat tinggi, menunjukkan bahwa model dapat menangkap pola pada dataset dengan baik.\n",
    "\n",
    "---\n",
    "\n",
    "## **3. Rekomendasi Tindakan Lanjutan**\n",
    "### **1. Hindari Data Leakage**\n",
    "- Periksa kembali preprocessing dan fitur yang memiliki korelasi tinggi terhadap target untuk memastikan tidak ada informasi target yang bocor.\n",
    "\n",
    "### **2. Pilih Metrik yang Tepat**\n",
    "- Jika dataset tidak seimbang, gunakan metrik seperti **ROC-AUC** atau **Precision-Recall Curve** untuk evaluasi yang lebih akurat.\n",
    "\n",
    "### **3. Mengumpulkan Data Tambahan**\n",
    "- Tambahkan data baru, terutama jika dataset saat ini memiliki bias distribusi atau tidak cukup kompleks.\n",
    "\n",
    "### **4. Lakukan Interpretasi Mendalam**\n",
    "- Analisis fitur penting (feature importance) untuk Random Forest.\n",
    "- Identifikasi faktor utama yang memengaruhi prediksi dan gunakan untuk pengambilan keputusan bisnis.\n",
    "\n",
    "### **5. Validasi Eksternal**\n",
    "- Uji model pada dataset baru (jika tersedia) untuk memastikan kemampuan generalisasi di luar dataset yang digunakan.\n"
   ]
  }
 ],
 "metadata": {
  "colab": {
   "provenance": []
  },
  "kernelspec": {
   "display_name": "Python 3",
   "name": "python3"
  },
  "language_info": {
   "codemirror_mode": {
    "name": "ipython",
    "version": 3
   },
   "file_extension": ".py",
   "mimetype": "text/x-python",
   "name": "python",
   "nbconvert_exporter": "python",
   "pygments_lexer": "ipython3",
   "version": "3.12.7"
  }
 },
 "nbformat": 4,
 "nbformat_minor": 0
}
